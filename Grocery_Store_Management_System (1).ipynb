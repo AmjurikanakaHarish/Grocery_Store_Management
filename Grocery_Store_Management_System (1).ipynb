{
 "cells": [
  {
   "cell_type": "code",
   "execution_count": 1,
   "id": "310d5761-e8f4-478b-905e-f966c7a0d5fc",
   "metadata": {},
   "outputs": [],
   "source": [
    "class Product:\n",
    "    def __init__(self, name, price, quantity):\n",
    "        self.name = name\n",
    "        self.price = price\n",
    "        self.quantity = quantity\n"
   ]
  },
  {
   "cell_type": "code",
   "execution_count": null,
   "id": "e72f3bd2-7d07-4e82-a5d6-739a4500cc00",
   "metadata": {},
   "outputs": [
    {
     "name": "stdout",
     "output_type": "stream",
     "text": [
      "=== Grocery Store Menu ===\n",
      "1. Add Product\n",
      "2. Show Products\n",
      "3. Purchase Product\n",
      "4. Exit\n"
     ]
    },
    {
     "name": "stdin",
     "output_type": "stream",
     "text": [
      "Choose an option:  1\n",
      "Enter product name:  Rice\n",
      "Enter price:  1200\n",
      "Enter quantity:  25\n"
     ]
    },
    {
     "name": "stdout",
     "output_type": "stream",
     "text": [
      "✅ Rice added successfully!\n",
      "\n",
      "=== Grocery Store Menu ===\n",
      "1. Add Product\n",
      "2. Show Products\n",
      "3. Purchase Product\n",
      "4. Exit\n"
     ]
    },
    {
     "name": "stdin",
     "output_type": "stream",
     "text": [
      "Choose an option:  1\n",
      "Enter product name:  Eggs\n",
      "Enter price:  7\n",
      "Enter quantity:  1\n"
     ]
    },
    {
     "name": "stdout",
     "output_type": "stream",
     "text": [
      "✅ Eggs added successfully!\n",
      "\n",
      "=== Grocery Store Menu ===\n",
      "1. Add Product\n",
      "2. Show Products\n",
      "3. Purchase Product\n",
      "4. Exit\n"
     ]
    },
    {
     "name": "stdin",
     "output_type": "stream",
     "text": [
      "Choose an option:  2\n"
     ]
    },
    {
     "name": "stdout",
     "output_type": "stream",
     "text": [
      "\n",
      "🛒 Available Products:\n",
      "- Rice: $1200.0 (Qty: 25)\n",
      "- Eggs: $7.0 (Qty: 1)\n",
      "\n",
      "=== Grocery Store Menu ===\n",
      "1. Add Product\n",
      "2. Show Products\n",
      "3. Purchase Product\n",
      "4. Exit\n"
     ]
    }
   ],
   "source": [
    "class GroceryStore:\n",
    "    def __init__(self):\n",
    "        self.products = {}\n",
    "\n",
    "    def add_product(self):\n",
    "        name = input(\"Enter product name: \")\n",
    "        price = float(input(\"Enter price: \"))\n",
    "        quantity = int(input(\"Enter quantity: \"))\n",
    "        self.products[name] = Product(name, price, quantity)\n",
    "        print(f\"✅ {name} added successfully!\\n\")\n",
    "\n",
    "    def show_products(self):\n",
    "        if not self.products:\n",
    "            print(\"No products available.\\n\")\n",
    "            return\n",
    "        print(\"\\n🛒 Available Products:\")\n",
    "        for name, p in self.products.items():\n",
    "            print(f\"- {name}: ${p.price} (Qty: {p.quantity})\")\n",
    "        print()\n",
    "\n",
    "    def purchase_product(self):\n",
    "        self.show_products()\n",
    "        name = input(\"Enter product name to buy: \")\n",
    "        if name not in self.products:\n",
    "            print(\"❌ Product not found!\\n\")\n",
    "            return\n",
    "        quantity = int(input(\"Enter quantity to buy: \"))\n",
    "        product = self.products[name]\n",
    "        if quantity > product.quantity:\n",
    "            print(\"❌ Not enough stock!\\n\")\n",
    "        else:\n",
    "            total = quantity * product.price\n",
    "            product.quantity -= quantity\n",
    "            print(f\"🧾 You bought {quantity} x {name} for ${total:.2f}\\n\")\n",
    "\n",
    "    def menu(self):\n",
    "        while True:\n",
    "            print(\"=== Grocery Store Menu ===\")\n",
    "            print(\"1. Add Product\")\n",
    "            print(\"2. Show Products\")\n",
    "            print(\"3. Purchase Product\")\n",
    "            print(\"4. Exit\")\n",
    "            choice = input(\"Choose an option: \")\n",
    "\n",
    "            if choice == '1':\n",
    "                self.add_product()\n",
    "            elif choice == '2':\n",
    "                self.show_products()\n",
    "            elif choice == '3':\n",
    "                self.purchase_product()\n",
    "            elif choice == '4':\n",
    "                print(\"Goodbye! 👋\")\n",
    "                break\n",
    "            else:\n",
    "                print(\"❌ Invalid option!\\n\")\n",
    "\n",
    "if __name__ == \"__main__\":\n",
    "    store = GroceryStore()\n",
    "    store.menu()\n"
   ]
  },
  {
   "cell_type": "code",
   "execution_count": null,
   "id": "a9facf0b-3659-4c24-a112-d0120655f111",
   "metadata": {},
   "outputs": [],
   "source": []
  }
 ],
 "metadata": {
  "kernelspec": {
   "display_name": "Python 3 (ipykernel)",
   "language": "python",
   "name": "python3"
  },
  "language_info": {
   "codemirror_mode": {
    "name": "ipython",
    "version": 3
   },
   "file_extension": ".py",
   "mimetype": "text/x-python",
   "name": "python",
   "nbconvert_exporter": "python",
   "pygments_lexer": "ipython3",
   "version": "3.12.4"
  }
 },
 "nbformat": 4,
 "nbformat_minor": 5
}
